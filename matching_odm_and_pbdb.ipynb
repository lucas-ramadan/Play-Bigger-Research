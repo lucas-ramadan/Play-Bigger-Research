{
 "cells": [
  {
   "cell_type": "code",
   "execution_count": 1,
   "metadata": {
    "collapsed": true
   },
   "outputs": [],
   "source": [
    "import pandas as pd"
   ]
  },
  {
   "cell_type": "code",
   "execution_count": 30,
   "metadata": {
    "collapsed": false
   },
   "outputs": [],
   "source": [
    "odm = pd.read_csv('data/odm2.csv')"
   ]
  },
  {
   "cell_type": "code",
   "execution_count": 4,
   "metadata": {
    "collapsed": false
   },
   "outputs": [
    {
     "data": {
      "text/html": [
       "<div>\n",
       "<table border=\"1\" class=\"dataframe\">\n",
       "  <thead>\n",
       "    <tr style=\"text-align: right;\">\n",
       "      <th></th>\n",
       "      <th>organizations.csv</th>\n",
       "      <th>type</th>\n",
       "      <th>primary_role</th>\n",
       "      <th>name</th>\n",
       "      <th>crunchbase_url</th>\n",
       "      <th>homepage_domain</th>\n",
       "      <th>homepage_url</th>\n",
       "      <th>profile_image_url</th>\n",
       "      <th>facebook_url</th>\n",
       "      <th>twitter_url</th>\n",
       "      <th>linkedin_url</th>\n",
       "      <th>stock_symbol</th>\n",
       "      <th>location_city</th>\n",
       "      <th>location_region</th>\n",
       "      <th>location_country_code</th>\n",
       "      <th>short_description</th>\n",
       "      <th>funding_round_name</th>\n",
       "    </tr>\n",
       "  </thead>\n",
       "  <tbody>\n",
       "    <tr>\n",
       "      <th>0</th>\n",
       "      <td>e1393508-30ea-8a36-3f96-dd3226033abd</td>\n",
       "      <td>Organization</td>\n",
       "      <td>company</td>\n",
       "      <td>Wetpaint</td>\n",
       "      <td>https://www.crunchbase.com/organization/wetpai...</td>\n",
       "      <td>wetpaint-inc.com</td>\n",
       "      <td>http://wetpaint-inc.com</td>\n",
       "      <td>https://www.crunchbase.com/organization/wetpai...</td>\n",
       "      <td>NaN</td>\n",
       "      <td>http://twitter.com/BachelrWetpaint</td>\n",
       "      <td>NaN</td>\n",
       "      <td>:</td>\n",
       "      <td>Seattle</td>\n",
       "      <td>Washington</td>\n",
       "      <td>USA</td>\n",
       "      <td>Wetpaint offers an online social publishing pl...</td>\n",
       "      <td>NaN</td>\n",
       "    </tr>\n",
       "    <tr>\n",
       "      <th>1</th>\n",
       "      <td>bf4d7b0e-b34d-2fd8-d292-6049c4f7efc7</td>\n",
       "      <td>Organization</td>\n",
       "      <td>company</td>\n",
       "      <td>Zoho</td>\n",
       "      <td>https://www.crunchbase.com/organization/zoho?u...</td>\n",
       "      <td>zoho.com</td>\n",
       "      <td>https://www.zoho.com/</td>\n",
       "      <td>https://www.crunchbase.com/organization/zoho/p...</td>\n",
       "      <td>http://www.facebook.com/zoho</td>\n",
       "      <td>http://twitter.com/zoho</td>\n",
       "      <td>http://www.linkedin.com/company/zoho-corporati...</td>\n",
       "      <td>:</td>\n",
       "      <td>Pleasanton</td>\n",
       "      <td>California</td>\n",
       "      <td>USA</td>\n",
       "      <td>Run your entire business with Zoho's suite of ...</td>\n",
       "      <td>NaN</td>\n",
       "    </tr>\n",
       "    <tr>\n",
       "      <th>2</th>\n",
       "      <td>5f2b40b8-d1b3-d323-d81a-b7a8e89553d0</td>\n",
       "      <td>Organization</td>\n",
       "      <td>company</td>\n",
       "      <td>Digg</td>\n",
       "      <td>https://www.crunchbase.com/organization/digg?u...</td>\n",
       "      <td>digg.com</td>\n",
       "      <td>http://www.digg.com</td>\n",
       "      <td>https://www.crunchbase.com/organization/digg/p...</td>\n",
       "      <td>http://www.facebook.com/digg</td>\n",
       "      <td>http://twitter.com/digg</td>\n",
       "      <td>http://www.linkedin.com/company/digg</td>\n",
       "      <td>:</td>\n",
       "      <td>New York</td>\n",
       "      <td>New York</td>\n",
       "      <td>USA</td>\n",
       "      <td>Digg Inc. operates a website that enables its ...</td>\n",
       "      <td>NaN</td>\n",
       "    </tr>\n",
       "    <tr>\n",
       "      <th>3</th>\n",
       "      <td>f4d5ab44-058b-298b-ea81-380e6e9a8eec</td>\n",
       "      <td>Organization</td>\n",
       "      <td>investor</td>\n",
       "      <td>Omidyar Network</td>\n",
       "      <td>https://www.crunchbase.com/organization/omidya...</td>\n",
       "      <td>omidyar.com</td>\n",
       "      <td>http://www.omidyar.com</td>\n",
       "      <td>https://www.crunchbase.com/organization/omidya...</td>\n",
       "      <td>http://www.facebook.com/OmidyarNetwork</td>\n",
       "      <td>http://twitter.com/OmidyarNetwork</td>\n",
       "      <td>http://www.linkedin.com/company/22806</td>\n",
       "      <td>:</td>\n",
       "      <td>Redwood City</td>\n",
       "      <td>California</td>\n",
       "      <td>USA</td>\n",
       "      <td>Pierre Omidyar, the founder of eBay, and his w...</td>\n",
       "      <td>NaN</td>\n",
       "    </tr>\n",
       "    <tr>\n",
       "      <th>4</th>\n",
       "      <td>df662812-7f97-0b43-9d3e-12f64f504fbb</td>\n",
       "      <td>Organization</td>\n",
       "      <td>company</td>\n",
       "      <td>Facebook</td>\n",
       "      <td>https://www.crunchbase.com/organization/facebo...</td>\n",
       "      <td>facebook.com</td>\n",
       "      <td>http://www.facebook.com</td>\n",
       "      <td>https://www.crunchbase.com/organization/facebo...</td>\n",
       "      <td>https://www.facebook.com/</td>\n",
       "      <td>https://twitter.com/facebook</td>\n",
       "      <td>http://www.linkedin.com/company/facebook</td>\n",
       "      <td>NASDAQ:FB</td>\n",
       "      <td>Menlo Park</td>\n",
       "      <td>California</td>\n",
       "      <td>USA</td>\n",
       "      <td>Facebook is an online social networking servic...</td>\n",
       "      <td>NaN</td>\n",
       "    </tr>\n",
       "  </tbody>\n",
       "</table>\n",
       "</div>"
      ],
      "text/plain": [
       "                      organizations.csv          type primary_role  \\\n",
       "0  e1393508-30ea-8a36-3f96-dd3226033abd  Organization      company   \n",
       "1  bf4d7b0e-b34d-2fd8-d292-6049c4f7efc7  Organization      company   \n",
       "2  5f2b40b8-d1b3-d323-d81a-b7a8e89553d0  Organization      company   \n",
       "3  f4d5ab44-058b-298b-ea81-380e6e9a8eec  Organization     investor   \n",
       "4  df662812-7f97-0b43-9d3e-12f64f504fbb  Organization      company   \n",
       "\n",
       "              name                                     crunchbase_url  \\\n",
       "0         Wetpaint  https://www.crunchbase.com/organization/wetpai...   \n",
       "1             Zoho  https://www.crunchbase.com/organization/zoho?u...   \n",
       "2             Digg  https://www.crunchbase.com/organization/digg?u...   \n",
       "3  Omidyar Network  https://www.crunchbase.com/organization/omidya...   \n",
       "4         Facebook  https://www.crunchbase.com/organization/facebo...   \n",
       "\n",
       "    homepage_domain             homepage_url  \\\n",
       "0  wetpaint-inc.com  http://wetpaint-inc.com   \n",
       "1          zoho.com    https://www.zoho.com/   \n",
       "2          digg.com      http://www.digg.com   \n",
       "3       omidyar.com   http://www.omidyar.com   \n",
       "4      facebook.com  http://www.facebook.com   \n",
       "\n",
       "                                   profile_image_url  \\\n",
       "0  https://www.crunchbase.com/organization/wetpai...   \n",
       "1  https://www.crunchbase.com/organization/zoho/p...   \n",
       "2  https://www.crunchbase.com/organization/digg/p...   \n",
       "3  https://www.crunchbase.com/organization/omidya...   \n",
       "4  https://www.crunchbase.com/organization/facebo...   \n",
       "\n",
       "                             facebook_url                         twitter_url  \\\n",
       "0                                     NaN  http://twitter.com/BachelrWetpaint   \n",
       "1            http://www.facebook.com/zoho             http://twitter.com/zoho   \n",
       "2            http://www.facebook.com/digg             http://twitter.com/digg   \n",
       "3  http://www.facebook.com/OmidyarNetwork   http://twitter.com/OmidyarNetwork   \n",
       "4               https://www.facebook.com/        https://twitter.com/facebook   \n",
       "\n",
       "                                        linkedin_url stock_symbol  \\\n",
       "0                                                NaN            :   \n",
       "1  http://www.linkedin.com/company/zoho-corporati...            :   \n",
       "2               http://www.linkedin.com/company/digg            :   \n",
       "3              http://www.linkedin.com/company/22806            :   \n",
       "4           http://www.linkedin.com/company/facebook    NASDAQ:FB   \n",
       "\n",
       "  location_city location_region location_country_code  \\\n",
       "0       Seattle      Washington                   USA   \n",
       "1    Pleasanton      California                   USA   \n",
       "2      New York        New York                   USA   \n",
       "3  Redwood City      California                   USA   \n",
       "4    Menlo Park      California                   USA   \n",
       "\n",
       "                                   short_description  funding_round_name  \n",
       "0  Wetpaint offers an online social publishing pl...                 NaN  \n",
       "1  Run your entire business with Zoho's suite of ...                 NaN  \n",
       "2  Digg Inc. operates a website that enables its ...                 NaN  \n",
       "3  Pierre Omidyar, the founder of eBay, and his w...                 NaN  \n",
       "4  Facebook is an online social networking servic...                 NaN  "
      ]
     },
     "execution_count": 4,
     "metadata": {},
     "output_type": "execute_result"
    }
   ],
   "source": [
    "odm.head()"
   ]
  },
  {
   "cell_type": "code",
   "execution_count": 9,
   "metadata": {
    "collapsed": false
   },
   "outputs": [
    {
     "name": "stdout",
     "output_type": "stream",
     "text": [
      "wetpaint\n",
      "zoho\n",
      "digg\n",
      "omidyar-network\n",
      "facebook\n"
     ]
    }
   ],
   "source": [
    "for d in odm['crunchbase_url'][:5]:\n",
    "    back = d.replace('https://www.crunchbase.com/organization/', '')\n",
    "    print back[:back.find('?')]"
   ]
  },
  {
   "cell_type": "code",
   "execution_count": 10,
   "metadata": {
    "collapsed": false
   },
   "outputs": [
    {
     "name": "stderr",
     "output_type": "stream",
     "text": [
      "/Users/LucasRamadan/anaconda/lib/python2.7/site-packages/IPython/core/interactiveshell.py:2902: DtypeWarning: Columns (15,18,41,42,43,44,45,46,47,48,49,50,51,52,53,54,55,56,57,58,59) have mixed types. Specify dtype option on import or set low_memory=False.\n",
      "  interactivity=interactivity, compiler=compiler, result=result)\n"
     ]
    }
   ],
   "source": [
    "pb = pd.read_csv('Q2_2015_updated_master (v30).csv')"
   ]
  },
  {
   "cell_type": "code",
   "execution_count": 11,
   "metadata": {
    "collapsed": false
   },
   "outputs": [
    {
     "data": {
      "text/html": [
       "<div>\n",
       "<table border=\"1\" class=\"dataframe\">\n",
       "  <thead>\n",
       "    <tr style=\"text-align: right;\">\n",
       "      <th></th>\n",
       "      <th>Company name</th>\n",
       "      <th>Industry</th>\n",
       "      <th>Category</th>\n",
       "      <th>Founded Year</th>\n",
       "      <th>Founded Date</th>\n",
       "      <th>Period</th>\n",
       "      <th>Classification</th>\n",
       "      <th>State</th>\n",
       "      <th>City</th>\n",
       "      <th>Zip</th>\n",
       "      <th>...</th>\n",
       "      <th>Unnamed: 50</th>\n",
       "      <th>Unnamed: 51</th>\n",
       "      <th>Unnamed: 52</th>\n",
       "      <th>Unnamed: 53</th>\n",
       "      <th>Unnamed: 54</th>\n",
       "      <th>Unnamed: 55</th>\n",
       "      <th>Unnamed: 56</th>\n",
       "      <th>Unnamed: 57</th>\n",
       "      <th>Unnamed: 58</th>\n",
       "      <th>Unnamed: 59</th>\n",
       "    </tr>\n",
       "  </thead>\n",
       "  <tbody>\n",
       "    <tr>\n",
       "      <th>0</th>\n",
       "      <td>Facebook</td>\n",
       "      <td>Tech</td>\n",
       "      <td>Consumer</td>\n",
       "      <td>2004</td>\n",
       "      <td>1/1/04</td>\n",
       "      <td>2004-2008</td>\n",
       "      <td>Public</td>\n",
       "      <td>CA</td>\n",
       "      <td>Menlo Park</td>\n",
       "      <td>94025</td>\n",
       "      <td>...</td>\n",
       "      <td>NaN</td>\n",
       "      <td>NaN</td>\n",
       "      <td>NaN</td>\n",
       "      <td>NaN</td>\n",
       "      <td>NaN</td>\n",
       "      <td>NaN</td>\n",
       "      <td>NaN</td>\n",
       "      <td>NaN</td>\n",
       "      <td>NaN</td>\n",
       "      <td>NaN</td>\n",
       "    </tr>\n",
       "    <tr>\n",
       "      <th>1</th>\n",
       "      <td>Facebook</td>\n",
       "      <td>Tech</td>\n",
       "      <td>Consumer</td>\n",
       "      <td>2004</td>\n",
       "      <td>1/1/04</td>\n",
       "      <td>2004-2008</td>\n",
       "      <td>Public</td>\n",
       "      <td>CA</td>\n",
       "      <td>Menlo Park</td>\n",
       "      <td>94025</td>\n",
       "      <td>...</td>\n",
       "      <td>NaN</td>\n",
       "      <td>NaN</td>\n",
       "      <td>NaN</td>\n",
       "      <td>NaN</td>\n",
       "      <td>NaN</td>\n",
       "      <td>NaN</td>\n",
       "      <td>NaN</td>\n",
       "      <td>NaN</td>\n",
       "      <td>NaN</td>\n",
       "      <td>NaN</td>\n",
       "    </tr>\n",
       "    <tr>\n",
       "      <th>2</th>\n",
       "      <td>Facebook</td>\n",
       "      <td>Tech</td>\n",
       "      <td>Consumer</td>\n",
       "      <td>2004</td>\n",
       "      <td>1/1/04</td>\n",
       "      <td>2004-2008</td>\n",
       "      <td>Public</td>\n",
       "      <td>CA</td>\n",
       "      <td>Menlo Park</td>\n",
       "      <td>94025</td>\n",
       "      <td>...</td>\n",
       "      <td>NaN</td>\n",
       "      <td>NaN</td>\n",
       "      <td>NaN</td>\n",
       "      <td>NaN</td>\n",
       "      <td>NaN</td>\n",
       "      <td>NaN</td>\n",
       "      <td>NaN</td>\n",
       "      <td>NaN</td>\n",
       "      <td>NaN</td>\n",
       "      <td>NaN</td>\n",
       "    </tr>\n",
       "    <tr>\n",
       "      <th>3</th>\n",
       "      <td>Facebook</td>\n",
       "      <td>Tech</td>\n",
       "      <td>Consumer</td>\n",
       "      <td>2004</td>\n",
       "      <td>1/1/04</td>\n",
       "      <td>2004-2008</td>\n",
       "      <td>Public</td>\n",
       "      <td>CA</td>\n",
       "      <td>Menlo Park</td>\n",
       "      <td>94025</td>\n",
       "      <td>...</td>\n",
       "      <td>NaN</td>\n",
       "      <td>NaN</td>\n",
       "      <td>NaN</td>\n",
       "      <td>NaN</td>\n",
       "      <td>NaN</td>\n",
       "      <td>NaN</td>\n",
       "      <td>NaN</td>\n",
       "      <td>NaN</td>\n",
       "      <td>NaN</td>\n",
       "      <td>NaN</td>\n",
       "    </tr>\n",
       "    <tr>\n",
       "      <th>4</th>\n",
       "      <td>Facebook</td>\n",
       "      <td>Tech</td>\n",
       "      <td>Consumer</td>\n",
       "      <td>2004</td>\n",
       "      <td>1/1/04</td>\n",
       "      <td>2004-2008</td>\n",
       "      <td>Public</td>\n",
       "      <td>CA</td>\n",
       "      <td>Menlo Park</td>\n",
       "      <td>94025</td>\n",
       "      <td>...</td>\n",
       "      <td>NaN</td>\n",
       "      <td>NaN</td>\n",
       "      <td>NaN</td>\n",
       "      <td>NaN</td>\n",
       "      <td>NaN</td>\n",
       "      <td>NaN</td>\n",
       "      <td>NaN</td>\n",
       "      <td>NaN</td>\n",
       "      <td>NaN</td>\n",
       "      <td>NaN</td>\n",
       "    </tr>\n",
       "  </tbody>\n",
       "</table>\n",
       "<p>5 rows × 60 columns</p>\n",
       "</div>"
      ],
      "text/plain": [
       "  Company name Industry  Category  Founded Year Founded Date     Period  \\\n",
       "0     Facebook     Tech  Consumer          2004       1/1/04  2004-2008   \n",
       "1     Facebook     Tech  Consumer          2004       1/1/04  2004-2008   \n",
       "2     Facebook     Tech  Consumer          2004       1/1/04  2004-2008   \n",
       "3     Facebook     Tech  Consumer          2004       1/1/04  2004-2008   \n",
       "4     Facebook     Tech  Consumer          2004       1/1/04  2004-2008   \n",
       "\n",
       "  Classification State        City    Zip     ...      Unnamed: 50  \\\n",
       "0         Public    CA  Menlo Park  94025     ...              NaN   \n",
       "1         Public    CA  Menlo Park  94025     ...              NaN   \n",
       "2         Public    CA  Menlo Park  94025     ...              NaN   \n",
       "3         Public    CA  Menlo Park  94025     ...              NaN   \n",
       "4         Public    CA  Menlo Park  94025     ...              NaN   \n",
       "\n",
       "  Unnamed: 51 Unnamed: 52 Unnamed: 53  Unnamed: 54 Unnamed: 55 Unnamed: 56  \\\n",
       "0         NaN         NaN         NaN          NaN         NaN         NaN   \n",
       "1         NaN         NaN         NaN          NaN         NaN         NaN   \n",
       "2         NaN         NaN         NaN          NaN         NaN         NaN   \n",
       "3         NaN         NaN         NaN          NaN         NaN         NaN   \n",
       "4         NaN         NaN         NaN          NaN         NaN         NaN   \n",
       "\n",
       "   Unnamed: 57 Unnamed: 58  Unnamed: 59  \n",
       "0          NaN         NaN          NaN  \n",
       "1          NaN         NaN          NaN  \n",
       "2          NaN         NaN          NaN  \n",
       "3          NaN         NaN          NaN  \n",
       "4          NaN         NaN          NaN  \n",
       "\n",
       "[5 rows x 60 columns]"
      ]
     },
     "execution_count": 11,
     "metadata": {},
     "output_type": "execute_result"
    }
   ],
   "source": [
    "pb.head()"
   ]
  },
  {
   "cell_type": "markdown",
   "metadata": {},
   "source": [
    "### Get in the right form for comparison"
   ]
  },
  {
   "cell_type": "code",
   "execution_count": 28,
   "metadata": {
    "collapsed": true
   },
   "outputs": [],
   "source": [
    "pb_companies = set([d.lower() for d in pb['Company name']])"
   ]
  },
  {
   "cell_type": "code",
   "execution_count": 29,
   "metadata": {
    "collapsed": false
   },
   "outputs": [
    {
     "data": {
      "text/plain": [
       "8635"
      ]
     },
     "execution_count": 29,
     "metadata": {},
     "output_type": "execute_result"
    }
   ],
   "source": [
    "len(pb_companies)"
   ]
  },
  {
   "cell_type": "code",
   "execution_count": 55,
   "metadata": {
    "collapsed": true
   },
   "outputs": [],
   "source": [
    "orgs = odm[odm['type'] == 'Organization']\n",
    "odm_companies = orgs[orgs['primary_role'] == 'company']\n",
    "us_companies = odm_companies[odm_companies['location_country_code']=='USA']['name'].dropna()"
   ]
  },
  {
   "cell_type": "code",
   "execution_count": 56,
   "metadata": {
    "collapsed": false
   },
   "outputs": [
    {
     "name": "stdout",
     "output_type": "stream",
     "text": [
      "106214\n"
     ]
    }
   ],
   "source": [
    "print len(us_companies)"
   ]
  },
  {
   "cell_type": "code",
   "execution_count": 57,
   "metadata": {
    "collapsed": false
   },
   "outputs": [
    {
     "name": "stdout",
     "output_type": "stream",
     "text": [
      "105538\n"
     ]
    }
   ],
   "source": [
    "print len(set(us_companies))"
   ]
  },
  {
   "cell_type": "code",
   "execution_count": 59,
   "metadata": {
    "collapsed": false
   },
   "outputs": [],
   "source": [
    "odm_companies = [d.lower() for d in list(set(us_companies))]"
   ]
  },
  {
   "cell_type": "markdown",
   "metadata": {},
   "source": [
    "### Compare our list of companies in PBDB vs. ODM"
   ]
  },
  {
   "cell_type": "code",
   "execution_count": 60,
   "metadata": {
    "collapsed": false
   },
   "outputs": [
    {
     "name": "stdout",
     "output_type": "stream",
     "text": [
      "0 mofuse\n",
      "1000 meetmoi\n",
      "2000 spigit\n",
      "3000 bomgar\n",
      "4000 local matters voice and wireless division\n",
      "5000 sweetlabs\n",
      "6000 branding brand\n",
      "7000 readabl\n",
      "8000 gamgee\n"
     ]
    }
   ],
   "source": [
    "matches = []\n",
    "misses = []\n",
    "\n",
    "for i, comp in enumerate(pb_companies): \n",
    "    if i % 1000 == 0: \n",
    "        print i, comp\n",
    "    if comp in odm_companies:\n",
    "        matches.append(comp.lower())\n",
    "    else: \n",
    "        misses.append(comp.lower())"
   ]
  },
  {
   "cell_type": "code",
   "execution_count": 136,
   "metadata": {
    "collapsed": false
   },
   "outputs": [
    {
     "name": "stdout",
     "output_type": "stream",
     "text": [
      " 5773\n",
      "2862\n",
      "0.668558193399\n"
     ]
    }
   ],
   "source": [
    "# get just over 2/3 of the companies right off the bat\n",
    "print len(matches)\n",
    "print len(misses)\n",
    "print float(len(matches))/(len(misses)+len(matches))"
   ]
  },
  {
   "cell_type": "markdown",
   "metadata": {},
   "source": [
    "### Where are we missing?"
   ]
  },
  {
   "cell_type": "code",
   "execution_count": 62,
   "metadata": {
    "collapsed": false
   },
   "outputs": [
    {
     "data": {
      "text/plain": [
       "['parlay labs',\n",
       " 'waspit (us)',\n",
       " 'accrew',\n",
       " 'sensorhound innovations',\n",
       " 'riv data',\n",
       " 'financial software systems',\n",
       " 'outrageous labs',\n",
       " 'dealer dot com',\n",
       " 'review trackers',\n",
       " 'evolve sports & designs']"
      ]
     },
     "execution_count": 62,
     "metadata": {},
     "output_type": "execute_result"
    }
   ],
   "source": [
    "# misses are companies that were in PBDB but NOT in ODM\n",
    "misses[:10]"
   ]
  },
  {
   "cell_type": "code",
   "execution_count": 133,
   "metadata": {
    "collapsed": false
   },
   "outputs": [
    {
     "name": "stdout",
     "output_type": "stream",
     "text": [
      "False\n",
      "True\n"
     ]
    }
   ],
   "source": [
    "print 'evolve sports & designs' in odm_companies\n",
    "print 'evolv sports & designs' in odm_companies"
   ]
  },
  {
   "cell_type": "code",
   "execution_count": 86,
   "metadata": {
    "collapsed": true
   },
   "outputs": [],
   "source": [
    "from collections import defaultdict"
   ]
  },
  {
   "cell_type": "code",
   "execution_count": 117,
   "metadata": {
    "collapsed": false
   },
   "outputs": [],
   "source": [
    "# making a little lookup for later\n",
    "comp_lookup = {d.split()[0]: d for d in odm_companies}"
   ]
  },
  {
   "cell_type": "code",
   "execution_count": null,
   "metadata": {
    "collapsed": true
   },
   "outputs": [],
   "source": [
    "cl = defaultdict(str, comp_lookup)"
   ]
  },
  {
   "cell_type": "code",
   "execution_count": null,
   "metadata": {
    "collapsed": true
   },
   "outputs": [],
   "source": [
    "# can we pick up some of the misses simply by checking the first word ?\n",
    "finds = []\n",
    "still_miss = []\n",
    "\n",
    "for miss in misses:\n",
    "    if miss.split()[0] in odm_companies:\n",
    "        finds.append((miss, cl[miss.split()[0]]))\n",
    "    else:\n",
    "        still_miss.append(miss)"
   ]
  },
  {
   "cell_type": "code",
   "execution_count": 128,
   "metadata": {
    "collapsed": false
   },
   "outputs": [
    {
     "name": "stdout",
     "output_type": "stream",
     "text": [
      "469\n",
      "2393\n"
     ]
    }
   ],
   "source": [
    "print len(finds)\n",
    "print len(still_miss)"
   ]
  },
  {
   "cell_type": "code",
   "execution_count": 125,
   "metadata": {
    "collapsed": false
   },
   "outputs": [
    {
     "data": {
      "text/plain": [
       "[('hara software', 'hara'),\n",
       " ('gogo cast', 'gogo lingo'),\n",
       " ('eligible api', 'eligible'),\n",
       " ('bindo labs', 'bindo'),\n",
       " ('noesis energy', 'noesis interactive'),\n",
       " ('litecast baltimore', 'litecast'),\n",
       " ('daptiv solutions', 'daptiv'),\n",
       " ('bottle rocket apps', 'bottle rock power plant - brpp'),\n",
       " ('chameleon collective', 'chameleon'),\n",
       " ('klever logic', 'klever')]"
      ]
     },
     "execution_count": 125,
     "metadata": {},
     "output_type": "execute_result"
    }
   ],
   "source": [
    "finds[:10]"
   ]
  },
  {
   "cell_type": "code",
   "execution_count": 126,
   "metadata": {
    "collapsed": false
   },
   "outputs": [
    {
     "data": {
      "text/plain": [
       "['parlay labs',\n",
       " 'waspit (us)',\n",
       " 'accrew',\n",
       " 'sensorhound innovations',\n",
       " 'riv data',\n",
       " 'financial software systems',\n",
       " 'outrageous labs',\n",
       " 'dealer dot com',\n",
       " 'review trackers',\n",
       " 'evolve sports & designs']"
      ]
     },
     "execution_count": 126,
     "metadata": {},
     "output_type": "execute_result"
    }
   ],
   "source": [
    "still_miss[:10]"
   ]
  },
  {
   "cell_type": "code",
   "execution_count": 71,
   "metadata": {
    "collapsed": false
   },
   "outputs": [
    {
     "name": "stdout",
     "output_type": "stream",
     "text": [
      "7154 8635\n"
     ]
    }
   ],
   "source": [
    "print len(finds) + len(matches), len(pb_companies)"
   ]
  },
  {
   "cell_type": "code",
   "execution_count": 73,
   "metadata": {
    "collapsed": false
   },
   "outputs": [
    {
     "data": {
      "text/plain": [
       "False"
      ]
     },
     "execution_count": 73,
     "metadata": {},
     "output_type": "execute_result"
    }
   ],
   "source": [
    "'evolve' in pb_companies"
   ]
  },
  {
   "cell_type": "markdown",
   "metadata": {},
   "source": [
    "### Try to get those last few"
   ]
  },
  {
   "cell_type": "code",
   "execution_count": 75,
   "metadata": {
    "collapsed": false
   },
   "outputs": [],
   "source": [
    "from difflib import get_close_matches"
   ]
  },
  {
   "cell_type": "code",
   "execution_count": 135,
   "metadata": {
    "collapsed": false
   },
   "outputs": [
    {
     "name": "stdout",
     "output_type": "stream",
     "text": [
      " --------------------\n",
      "parlay labs ['parade labs', 'opal labs', 'airy labs']\n",
      "parlay labs ['parllay', 'partly marketplace', 'parlar realty co.']\n",
      "--------------------\n",
      "waspit (us) ['as it is', 'situs', 'wastebits']\n",
      "waspit (us) ['wasp marketing', 'wait but why', 'asit engineering corporation']\n",
      "--------------------\n",
      "accrew ['accrue', 'crew', 'acre']\n",
      "accrew ['accure technologies', 'accrue', 'crew']\n",
      "--------------------\n",
      "sensorhound innovations ['zerohour innovations', 'sun innovations', 'synchrony innovations']\n",
      "sensorhound innovations ['sensorcon', 'sensor cat', 'workhound']\n",
      "--------------------\n",
      "riv data ['idata', 'msi data', 'livedata']\n",
      "riv data ['rivs', 'rive technology', 'riva']\n",
      "--------------------\n",
      "financial software systems ['fango software systems', 'nimble software systems', 'physician software systems']\n",
      "financial software systems ['financial media group', 'efinancial communications', 'ifinancials']\n",
      "--------------------\n",
      "outrageous labs ['treehouse labs', 'tradeup labs', 'torus labs']\n",
      "outrageous labs ['poprageous', 'otraces', 'yourgroups']\n",
      "--------------------\n",
      "dealer dot com ['dealer.com', 'thamel dot com', 'dealyard.com']\n",
      "dealer dot com ['dealer service alternative', 'dealster', 'dealperk']\n",
      "--------------------\n",
      "review trackers ['reviewtrackers', 'preview travel', 'hedge trackers']\n",
      "review trackers ['review signal', 'preview travel', 'rareview']\n",
      "--------------------\n",
      "evolve sports & designs ['evolv sports & designs', 'volo designs', 'see song designs']\n",
      "evolve sports & designs ['evolve guest controls', 'revolve solar', 'evolver']\n",
      "--------------------\n",
      "insider guides ['inside travel guides', 'insider pages', 'sideguide']\n",
      "insider guides ['insider pages', 'insiders sports', 'inside academics']\n",
      "--------------------\n",
      "tritek solutions ['treo solutions', 'rite-solutions', 'kite solutions']\n",
      "tritek solutions ['tretek systems', 'trek diagnostic systems', 'rite aid']\n",
      "--------------------\n",
      "almedtrac ['metrarc', 'amentra', 'table trac']\n",
      "almedtrac ['almeda time products llc', 'metrarc', 'medtric biotech']\n",
      "--------------------\n",
      "equicross ['equipois', 'securosis', 'red cross']\n",
      "equicross ['micross components', 'incross co., ltd', 'cross current']\n",
      "--------------------\n",
      "ezuce ['zuchem', 'eruces', 'zvue']\n",
      "ezuce ['zuchem', 'reduce data', 'eruces']\n",
      "--------------------\n",
      "tansna therapeutics"
     ]
    },
    {
     "ename": "KeyboardInterrupt",
     "evalue": "",
     "output_type": "error",
     "traceback": [
      "\u001b[0;31m---------------------------------------------------------------------------\u001b[0m",
      "\u001b[0;31mKeyboardInterrupt\u001b[0m                         Traceback (most recent call last)",
      "\u001b[0;32m<ipython-input-135-da18bfaa5000>\u001b[0m in \u001b[0;36m<module>\u001b[0;34m()\u001b[0m\n\u001b[1;32m      1\u001b[0m \u001b[0;32mfor\u001b[0m \u001b[0mcomp\u001b[0m \u001b[0;32min\u001b[0m \u001b[0mmisses\u001b[0m\u001b[0;34m:\u001b[0m\u001b[0;34m\u001b[0m\u001b[0m\n\u001b[1;32m      2\u001b[0m     \u001b[0;32mprint\u001b[0m \u001b[0;34m'-'\u001b[0m\u001b[0;34m*\u001b[0m\u001b[0;36m20\u001b[0m\u001b[0;34m\u001b[0m\u001b[0m\n\u001b[0;32m----> 3\u001b[0;31m     \u001b[0;32mprint\u001b[0m \u001b[0mcomp\u001b[0m\u001b[0;34m,\u001b[0m \u001b[0mget_close_matches\u001b[0m\u001b[0;34m(\u001b[0m\u001b[0mcomp\u001b[0m\u001b[0;34m,\u001b[0m \u001b[0modm_companies\u001b[0m\u001b[0;34m)\u001b[0m\u001b[0;34m\u001b[0m\u001b[0m\n\u001b[0m\u001b[1;32m      4\u001b[0m     \u001b[0;32mprint\u001b[0m \u001b[0mcomp\u001b[0m\u001b[0;34m,\u001b[0m \u001b[0;34m[\u001b[0m\u001b[0mcomp_lookup\u001b[0m\u001b[0;34m[\u001b[0m\u001b[0md\u001b[0m\u001b[0;34m]\u001b[0m \u001b[0;32mfor\u001b[0m \u001b[0md\u001b[0m \u001b[0;32min\u001b[0m \u001b[0mget_close_matches\u001b[0m\u001b[0;34m(\u001b[0m\u001b[0mcomp\u001b[0m\u001b[0;34m.\u001b[0m\u001b[0msplit\u001b[0m\u001b[0;34m(\u001b[0m\u001b[0;34m)\u001b[0m\u001b[0;34m[\u001b[0m\u001b[0;36m0\u001b[0m\u001b[0;34m]\u001b[0m\u001b[0;34m,\u001b[0m \u001b[0mcomp_lookup\u001b[0m\u001b[0;34m)\u001b[0m\u001b[0;34m]\u001b[0m\u001b[0;34m\u001b[0m\u001b[0m\n",
      "\u001b[0;32m/Users/LucasRamadan/anaconda/lib/python2.7/difflib.pyc\u001b[0m in \u001b[0;36mget_close_matches\u001b[0;34m(word, possibilities, n, cutoff)\u001b[0m\n\u001b[1;32m    739\u001b[0m         \u001b[0;32mif\u001b[0m \u001b[0ms\u001b[0m\u001b[0;34m.\u001b[0m\u001b[0mreal_quick_ratio\u001b[0m\u001b[0;34m(\u001b[0m\u001b[0;34m)\u001b[0m \u001b[0;34m>=\u001b[0m \u001b[0mcutoff\u001b[0m \u001b[0;32mand\u001b[0m\u001b[0;31m \u001b[0m\u001b[0;31m\\\u001b[0m\u001b[0;34m\u001b[0m\u001b[0m\n\u001b[1;32m    740\u001b[0m            \u001b[0ms\u001b[0m\u001b[0;34m.\u001b[0m\u001b[0mquick_ratio\u001b[0m\u001b[0;34m(\u001b[0m\u001b[0;34m)\u001b[0m \u001b[0;34m>=\u001b[0m \u001b[0mcutoff\u001b[0m \u001b[0;32mand\u001b[0m\u001b[0;31m \u001b[0m\u001b[0;31m\\\u001b[0m\u001b[0;34m\u001b[0m\u001b[0m\n\u001b[0;32m--> 741\u001b[0;31m            \u001b[0ms\u001b[0m\u001b[0;34m.\u001b[0m\u001b[0mratio\u001b[0m\u001b[0;34m(\u001b[0m\u001b[0;34m)\u001b[0m \u001b[0;34m>=\u001b[0m \u001b[0mcutoff\u001b[0m\u001b[0;34m:\u001b[0m\u001b[0;34m\u001b[0m\u001b[0m\n\u001b[0m\u001b[1;32m    742\u001b[0m             \u001b[0mresult\u001b[0m\u001b[0;34m.\u001b[0m\u001b[0mappend\u001b[0m\u001b[0;34m(\u001b[0m\u001b[0;34m(\u001b[0m\u001b[0ms\u001b[0m\u001b[0;34m.\u001b[0m\u001b[0mratio\u001b[0m\u001b[0;34m(\u001b[0m\u001b[0;34m)\u001b[0m\u001b[0;34m,\u001b[0m \u001b[0mx\u001b[0m\u001b[0;34m)\u001b[0m\u001b[0;34m)\u001b[0m\u001b[0;34m\u001b[0m\u001b[0m\n\u001b[1;32m    743\u001b[0m \u001b[0;34m\u001b[0m\u001b[0m\n",
      "\u001b[0;32m/Users/LucasRamadan/anaconda/lib/python2.7/difflib.pyc\u001b[0m in \u001b[0;36mratio\u001b[0;34m(self)\u001b[0m\n\u001b[1;32m    655\u001b[0m \u001b[0;34m\u001b[0m\u001b[0m\n\u001b[1;32m    656\u001b[0m         matches = reduce(lambda sum, triple: sum + triple[-1],\n\u001b[0;32m--> 657\u001b[0;31m                          self.get_matching_blocks(), 0)\n\u001b[0m\u001b[1;32m    658\u001b[0m         \u001b[0;32mreturn\u001b[0m \u001b[0m_calculate_ratio\u001b[0m\u001b[0;34m(\u001b[0m\u001b[0mmatches\u001b[0m\u001b[0;34m,\u001b[0m \u001b[0mlen\u001b[0m\u001b[0;34m(\u001b[0m\u001b[0mself\u001b[0m\u001b[0;34m.\u001b[0m\u001b[0ma\u001b[0m\u001b[0;34m)\u001b[0m \u001b[0;34m+\u001b[0m \u001b[0mlen\u001b[0m\u001b[0;34m(\u001b[0m\u001b[0mself\u001b[0m\u001b[0;34m.\u001b[0m\u001b[0mb\u001b[0m\u001b[0;34m)\u001b[0m\u001b[0;34m)\u001b[0m\u001b[0;34m\u001b[0m\u001b[0m\n\u001b[1;32m    659\u001b[0m \u001b[0;34m\u001b[0m\u001b[0m\n",
      "\u001b[0;32m/Users/LucasRamadan/anaconda/lib/python2.7/difflib.pyc\u001b[0m in \u001b[0;36mget_matching_blocks\u001b[0;34m(self)\u001b[0m\n\u001b[1;32m    489\u001b[0m         \u001b[0;32mwhile\u001b[0m \u001b[0mqueue\u001b[0m\u001b[0;34m:\u001b[0m\u001b[0;34m\u001b[0m\u001b[0m\n\u001b[1;32m    490\u001b[0m             \u001b[0malo\u001b[0m\u001b[0;34m,\u001b[0m \u001b[0mahi\u001b[0m\u001b[0;34m,\u001b[0m \u001b[0mblo\u001b[0m\u001b[0;34m,\u001b[0m \u001b[0mbhi\u001b[0m \u001b[0;34m=\u001b[0m \u001b[0mqueue\u001b[0m\u001b[0;34m.\u001b[0m\u001b[0mpop\u001b[0m\u001b[0;34m(\u001b[0m\u001b[0;34m)\u001b[0m\u001b[0;34m\u001b[0m\u001b[0m\n\u001b[0;32m--> 491\u001b[0;31m             \u001b[0mi\u001b[0m\u001b[0;34m,\u001b[0m \u001b[0mj\u001b[0m\u001b[0;34m,\u001b[0m \u001b[0mk\u001b[0m \u001b[0;34m=\u001b[0m \u001b[0mx\u001b[0m \u001b[0;34m=\u001b[0m \u001b[0mself\u001b[0m\u001b[0;34m.\u001b[0m\u001b[0mfind_longest_match\u001b[0m\u001b[0;34m(\u001b[0m\u001b[0malo\u001b[0m\u001b[0;34m,\u001b[0m \u001b[0mahi\u001b[0m\u001b[0;34m,\u001b[0m \u001b[0mblo\u001b[0m\u001b[0;34m,\u001b[0m \u001b[0mbhi\u001b[0m\u001b[0;34m)\u001b[0m\u001b[0;34m\u001b[0m\u001b[0m\n\u001b[0m\u001b[1;32m    492\u001b[0m             \u001b[0;31m# a[alo:i] vs b[blo:j] unknown\u001b[0m\u001b[0;34m\u001b[0m\u001b[0;34m\u001b[0m\u001b[0m\n\u001b[1;32m    493\u001b[0m             \u001b[0;31m# a[i:i+k] same as b[j:j+k]\u001b[0m\u001b[0;34m\u001b[0m\u001b[0;34m\u001b[0m\u001b[0m\n",
      "\u001b[0;32m/Users/LucasRamadan/anaconda/lib/python2.7/difflib.pyc\u001b[0m in \u001b[0;36mfind_longest_match\u001b[0;34m(self, alo, ahi, blo, bhi)\u001b[0m\n\u001b[1;32m    402\u001b[0m         \u001b[0;31m# the unique 'b's and then matching the first two 'a's.\u001b[0m\u001b[0;34m\u001b[0m\u001b[0;34m\u001b[0m\u001b[0m\n\u001b[1;32m    403\u001b[0m \u001b[0;34m\u001b[0m\u001b[0m\n\u001b[0;32m--> 404\u001b[0;31m         \u001b[0ma\u001b[0m\u001b[0;34m,\u001b[0m \u001b[0mb\u001b[0m\u001b[0;34m,\u001b[0m \u001b[0mb2j\u001b[0m\u001b[0;34m,\u001b[0m \u001b[0misbjunk\u001b[0m \u001b[0;34m=\u001b[0m \u001b[0mself\u001b[0m\u001b[0;34m.\u001b[0m\u001b[0ma\u001b[0m\u001b[0;34m,\u001b[0m \u001b[0mself\u001b[0m\u001b[0;34m.\u001b[0m\u001b[0mb\u001b[0m\u001b[0;34m,\u001b[0m \u001b[0mself\u001b[0m\u001b[0;34m.\u001b[0m\u001b[0mb2j\u001b[0m\u001b[0;34m,\u001b[0m \u001b[0mself\u001b[0m\u001b[0;34m.\u001b[0m\u001b[0misbjunk\u001b[0m\u001b[0;34m\u001b[0m\u001b[0m\n\u001b[0m\u001b[1;32m    405\u001b[0m         \u001b[0mbesti\u001b[0m\u001b[0;34m,\u001b[0m \u001b[0mbestj\u001b[0m\u001b[0;34m,\u001b[0m \u001b[0mbestsize\u001b[0m \u001b[0;34m=\u001b[0m \u001b[0malo\u001b[0m\u001b[0;34m,\u001b[0m \u001b[0mblo\u001b[0m\u001b[0;34m,\u001b[0m \u001b[0;36m0\u001b[0m\u001b[0;34m\u001b[0m\u001b[0m\n\u001b[1;32m    406\u001b[0m         \u001b[0;31m# find longest junk-free match\u001b[0m\u001b[0;34m\u001b[0m\u001b[0;34m\u001b[0m\u001b[0m\n",
      "\u001b[0;31mKeyboardInterrupt\u001b[0m: "
     ]
    }
   ],
   "source": [
    "for comp in misses:\n",
    "    print '-'*20\n",
    "    print comp, get_close_matches(comp, odm_companies)\n",
    "    print comp, [comp_lookup[d] for d in get_close_matches(comp.split()[0], comp_lookup)]"
   ]
  },
  {
   "cell_type": "markdown",
   "metadata": {},
   "source": [
    "### Will need to also check against Aliases in CB"
   ]
  },
  {
   "cell_type": "code",
   "execution_count": null,
   "metadata": {
    "collapsed": true
   },
   "outputs": [],
   "source": []
  }
 ],
 "metadata": {
  "kernelspec": {
   "display_name": "Python 2",
   "language": "python",
   "name": "python2"
  },
  "language_info": {
   "codemirror_mode": {
    "name": "ipython",
    "version": 2
   },
   "file_extension": ".py",
   "mimetype": "text/x-python",
   "name": "python",
   "nbconvert_exporter": "python",
   "pygments_lexer": "ipython2",
   "version": "2.7.11"
  }
 },
 "nbformat": 4,
 "nbformat_minor": 0
}
